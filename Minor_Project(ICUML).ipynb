{
  "nbformat": 4,
  "nbformat_minor": 0,
  "metadata": {
    "colab": {
      "name": "Minor_Project(ICUML).ipynb",
      "provenance": [],
      "authorship_tag": "ABX9TyNP6x7mLGh0CCRt9tXfQMBu",
      "include_colab_link": true
    },
    "kernelspec": {
      "name": "python3",
      "display_name": "Python 3"
    },
    "language_info": {
      "name": "python"
    }
  },
  "cells": [
    {
      "cell_type": "markdown",
      "metadata": {
        "id": "view-in-github",
        "colab_type": "text"
      },
      "source": [
        "<a href=\"https://colab.research.google.com/github/Sakshi-A09/Mini-Project/blob/main/Minor_Project(ICUML).ipynb\" target=\"_parent\"><img src=\"https://colab.research.google.com/assets/colab-badge.svg\" alt=\"Open In Colab\"/></a>"
      ]
    },
    {
      "cell_type": "code",
      "metadata": {
        "colab": {
          "base_uri": "https://localhost:8080/"
        },
        "id": "2UirKH4aQvjN",
        "outputId": "2a988244-36c9-4784-f7e2-22e755d08da9"
      },
      "source": [
        "!pip install bing-image-downloader"
      ],
      "execution_count": 1,
      "outputs": [
        {
          "output_type": "stream",
          "text": [
            "Collecting bing-image-downloader\n",
            "  Downloading https://files.pythonhosted.org/packages/0d/bf/537a61030b84ae4cd5022d5c7b014fd9bc3ce7c02358919153a6658a61d3/bing_image_downloader-1.0.4-py3-none-any.whl\n",
            "Installing collected packages: bing-image-downloader\n",
            "Successfully installed bing-image-downloader-1.0.4\n"
          ],
          "name": "stdout"
        }
      ]
    },
    {
      "cell_type": "code",
      "metadata": {
        "colab": {
          "base_uri": "https://localhost:8080/"
        },
        "id": "HzOd5Y4tgcQ6",
        "outputId": "021d455c-79cd-47ea-f5e7-5b84e2c458c1"
      },
      "source": [
        "!mkdir images\n",
        "from bing_image_downloader import downloader\n",
        "downloader.download(\"buildings\",limit=30,output_dir='images',adult_filter_off=True)"
      ],
      "execution_count": 2,
      "outputs": [
        {
          "output_type": "stream",
          "text": [
            "\n",
            "\n",
            "[!!]Indexing page: 1\n",
            "\n",
            "[%] Indexed 12 Images on Page 1.\n",
            "\n",
            "===============================================\n",
            "\n",
            "[%] Downloading Image #1 from https://i.pinimg.com/736x/28/6e/51/286e51e24c37a793e7ba8eb61057be40--building-facade-office-buildings.jpg\n",
            "[%] File Downloaded !\n",
            "\n",
            "[%] Downloading Image #2 from http://www.aviewoncities.com/img/sf/kveus4595s.jpg\n",
            "[!] Issue getting: http://www.aviewoncities.com/img/sf/kveus4595s.jpg\n",
            "[!] Error:: <urlopen error [Errno -3] Temporary failure in name resolution>\n",
            "[%] Downloading Image #2 from https://www.e-architect.co.uk/wp-content/uploads/2015/12/no-1-poultry-building-london.jpg\n",
            "[%] File Downloaded !\n",
            "\n",
            "[%] Downloading Image #3 from http://myamazingthings.com/wp-content/uploads/2017/05/lights-681x1024.jpg\n",
            "[%] File Downloaded !\n",
            "\n",
            "[%] Downloading Image #4 from http://thewowstyle.com/wp-content/uploads/2014/11/Colorful-Building-in-Little-India-Singapore.jpg\n",
            "[%] File Downloaded !\n",
            "\n",
            "[%] Downloading Image #5 from http://cdn.goodshomedesign.com/wp-content/uploads/2016/10/Shed-Turned-Tiny-Home-3.jpg\n",
            "[%] File Downloaded !\n",
            "\n",
            "[%] Downloading Image #6 from https://www.neumannsmith.com/wp-content/uploads/2015/03/cmu-060513-ike9375.jpg\n",
            "[%] File Downloaded !\n",
            "\n",
            "[%] Downloading Image #7 from https://www.scapestudio.com/wp-content/uploads/2016/07/180814_MidtownCenter_DC-0152-400x533.jpg\n",
            "[%] File Downloaded !\n",
            "\n",
            "[%] Downloading Image #8 from https://beautyharmonylife.com/wp-content/uploads/2013/07/Belgacom-building.jpg\n",
            "[%] File Downloaded !\n",
            "\n",
            "[%] Downloading Image #9 from https://www.britainexpress.com/images/attractions/editor/Peveril-Castle-0015.jpg\n",
            "[%] File Downloaded !\n",
            "\n",
            "[%] Downloading Image #10 from https://www.e-architect.co.uk/images/jpgs/norway/oslo_apartment_building_r120510_8.jpg\n",
            "[%] File Downloaded !\n",
            "\n",
            "[%] Downloading Image #11 from https://www.e-architect.co.uk/images/jpgs/las_vegas/crystals_las_vegas_am100210_4.jpg\n",
            "[%] File Downloaded !\n",
            "\n",
            "\n",
            "\n",
            "[!!]Indexing page: 2\n",
            "\n",
            "[%] Indexed 12 Images on Page 2.\n",
            "\n",
            "===============================================\n",
            "\n",
            "[%] Downloading Image #12 from https://i.pinimg.com/736x/28/6e/51/286e51e24c37a793e7ba8eb61057be40--building-facade-office-buildings.jpg\n",
            "[%] File Downloaded !\n",
            "\n",
            "[%] Downloading Image #13 from http://www.aviewoncities.com/img/sf/kveus4595s.jpg\n",
            "[!] Issue getting: http://www.aviewoncities.com/img/sf/kveus4595s.jpg\n",
            "[!] Error:: <urlopen error [Errno -3] Temporary failure in name resolution>\n",
            "[%] Downloading Image #13 from https://www.e-architect.co.uk/wp-content/uploads/2015/12/no-1-poultry-building-london.jpg\n",
            "[%] File Downloaded !\n",
            "\n",
            "[%] Downloading Image #14 from http://myamazingthings.com/wp-content/uploads/2017/05/lights-681x1024.jpg\n",
            "[%] File Downloaded !\n",
            "\n",
            "[%] Downloading Image #15 from http://thewowstyle.com/wp-content/uploads/2014/11/Colorful-Building-in-Little-India-Singapore.jpg\n",
            "[%] File Downloaded !\n",
            "\n",
            "[%] Downloading Image #16 from http://cdn.goodshomedesign.com/wp-content/uploads/2016/10/Shed-Turned-Tiny-Home-3.jpg\n",
            "[%] File Downloaded !\n",
            "\n",
            "[%] Downloading Image #17 from https://www.neumannsmith.com/wp-content/uploads/2015/03/cmu-060513-ike9375.jpg\n",
            "[%] File Downloaded !\n",
            "\n",
            "[%] Downloading Image #18 from https://www.scapestudio.com/wp-content/uploads/2016/07/180814_MidtownCenter_DC-0152-400x533.jpg\n",
            "[%] File Downloaded !\n",
            "\n",
            "[%] Downloading Image #19 from https://beautyharmonylife.com/wp-content/uploads/2013/07/Belgacom-building.jpg\n",
            "[%] File Downloaded !\n",
            "\n",
            "[%] Downloading Image #20 from https://www.britainexpress.com/images/attractions/editor/Peveril-Castle-0015.jpg\n",
            "[%] File Downloaded !\n",
            "\n",
            "[%] Downloading Image #21 from https://www.e-architect.co.uk/images/jpgs/norway/oslo_apartment_building_r120510_8.jpg\n",
            "[%] File Downloaded !\n",
            "\n",
            "[%] Downloading Image #22 from https://www.e-architect.co.uk/images/jpgs/las_vegas/crystals_las_vegas_am100210_4.jpg\n",
            "[%] File Downloaded !\n",
            "\n",
            "\n",
            "\n",
            "[!!]Indexing page: 3\n",
            "\n",
            "[%] Indexed 11 Images on Page 3.\n",
            "\n",
            "===============================================\n",
            "\n",
            "[%] Downloading Image #23 from http://www.aviewoncities.com/img/sf/kveus4595s.jpg\n",
            "[!] Issue getting: http://www.aviewoncities.com/img/sf/kveus4595s.jpg\n",
            "[!] Error:: <urlopen error [Errno -3] Temporary failure in name resolution>\n",
            "[%] Downloading Image #23 from http://cdn.goodshomedesign.com/wp-content/uploads/2016/10/Shed-Turned-Tiny-Home-3.jpg\n",
            "[%] File Downloaded !\n",
            "\n",
            "[%] Downloading Image #24 from https://www.neumannsmith.com/wp-content/uploads/2015/03/cmu-060513-ike9375.jpg\n",
            "[%] File Downloaded !\n",
            "\n",
            "[%] Downloading Image #25 from http://thewowstyle.com/wp-content/uploads/2014/11/Colorful-Building-in-Little-India-Singapore.jpg\n",
            "[%] File Downloaded !\n",
            "\n",
            "[%] Downloading Image #26 from https://www.e-architect.co.uk/images/jpgs/las_vegas/crystals_las_vegas_am100210_4.jpg\n",
            "[%] File Downloaded !\n",
            "\n",
            "[%] Downloading Image #27 from https://www.scapestudio.com/wp-content/uploads/2016/07/180814_MidtownCenter_DC-0152-400x533.jpg\n",
            "[%] File Downloaded !\n",
            "\n",
            "[%] Downloading Image #28 from https://www.e-architect.co.uk/images/jpgs/norway/oslo_apartment_building_r120510_8.jpg\n",
            "[%] File Downloaded !\n",
            "\n",
            "[%] Downloading Image #29 from https://www.britainexpress.com/images/attractions/editor/Peveril-Castle-0015.jpg\n",
            "[%] File Downloaded !\n",
            "\n",
            "[%] Downloading Image #30 from https://beautyharmonylife.com/wp-content/uploads/2013/07/Belgacom-building.jpg\n",
            "[%] File Downloaded !\n",
            "\n",
            "\n",
            "\n",
            "[%] Done. Downloaded 30 images.\n",
            "\n",
            "===============================================\n",
            "\n"
          ],
          "name": "stdout"
        }
      ]
    },
    {
      "cell_type": "code",
      "metadata": {
        "colab": {
          "base_uri": "https://localhost:8080/"
        },
        "id": "zpgDj4iShfK4",
        "outputId": "3d770a8d-cfe2-4502-f9d7-be3b09393aa0"
      },
      "source": [
        "downloader.download(\"forests\",limit=30,output_dir='images',adult_filter_off=True)"
      ],
      "execution_count": 3,
      "outputs": [
        {
          "output_type": "stream",
          "text": [
            "\n",
            "\n",
            "[!!]Indexing page: 1\n",
            "\n",
            "[%] Indexed 12 Images on Page 1.\n",
            "\n",
            "===============================================\n",
            "\n",
            "[%] Downloading Image #1 from https://wallpapers.gg/wp-content/uploads/2017/07/Treehouse-01-2560x1440.jpg\n",
            "[%] File Downloaded !\n",
            "\n",
            "[%] Downloading Image #2 from https://frontierpartisans.com/wp-content/uploads/2014/10/Gregory-Manchess-part2-8.jpg\n",
            "[%] File Downloaded !\n",
            "\n",
            "[%] Downloading Image #3 from https://www.wallpapers13.com/wp-content/uploads/2016/07/Beautiful-mountain-stream-waterfall-rocks-and-green-pine-forest-Yoho-National-Park-British-Columbia-Canada-Desktop-Wallpaper-HD-2560x1600-1920x1080.jpg\n",
            "[%] File Downloaded !\n",
            "\n",
            "[%] Downloading Image #4 from http://3.bp.blogspot.com/_oIAhQMTG-dU/SqTFkSI3mKI/AAAAAAAAB2g/Wy0ctlTGAl4/s640/amazing-moon-pictures-photos-04.jpg\n",
            "[%] File Downloaded !\n",
            "\n",
            "[%] Downloading Image #5 from http://www.exploretheozarksonline.com/activities/parksnature/nationalforests/ozark/bigpiney/images/pic_FallingWater05.jpg\n",
            "[%] File Downloaded !\n",
            "\n",
            "[%] Downloading Image #6 from https://www.americanforests.org/wp-content/uploads/2013/03/Monarch-butterfly.jpg\n",
            "[%] File Downloaded !\n",
            "\n",
            "[%] Downloading Image #7 from http://www.bucketlistpublications.com/wp-content/uploads/2016/02/Muir-Woods-San-Francisco-Bay-Area-California-534x800.jpg\n",
            "[%] File Downloaded !\n",
            "\n",
            "[%] Downloading Image #8 from http://www.elitecolumn.com/wp-content/uploads/2017/08/Best-Places-To-Visit-In-India-3.jpg\n",
            "[%] File Downloaded !\n",
            "\n",
            "[%] Downloading Image #9 from http://johnburk.zenfolio.com/img/s/v-3/p532820108-4.jpg\n",
            "[%] File Downloaded !\n",
            "\n",
            "[%] Downloading Image #10 from https://www.minnesotawildflowers.info/udata/r9ndp23q/pd/aplectrum-hyemale-7.jpg\n",
            "[%] File Downloaded !\n",
            "\n",
            "[%] Downloading Image #11 from http://uploads.neatorama.com/images/posts/332/71/71332/1398025301-0.jpg\n",
            "[%] File Downloaded !\n",
            "\n",
            "[%] Downloading Image #12 from https://www.newslinq.com/wp-content/uploads/2014/11/Le-Meridien-Bora-Bora-025-930x1395.jpg\n",
            "[%] File Downloaded !\n",
            "\n",
            "\n",
            "\n",
            "[!!]Indexing page: 2\n",
            "\n",
            "[%] Indexed 12 Images on Page 2.\n",
            "\n",
            "===============================================\n",
            "\n",
            "[%] Downloading Image #13 from https://wallpapers.gg/wp-content/uploads/2017/07/Treehouse-01-2560x1440.jpg\n",
            "[%] File Downloaded !\n",
            "\n",
            "[%] Downloading Image #14 from https://frontierpartisans.com/wp-content/uploads/2014/10/Gregory-Manchess-part2-8.jpg\n",
            "[%] File Downloaded !\n",
            "\n",
            "[%] Downloading Image #15 from https://www.wallpapers13.com/wp-content/uploads/2016/07/Beautiful-mountain-stream-waterfall-rocks-and-green-pine-forest-Yoho-National-Park-British-Columbia-Canada-Desktop-Wallpaper-HD-2560x1600-1920x1080.jpg\n",
            "[%] File Downloaded !\n",
            "\n",
            "[%] Downloading Image #16 from http://3.bp.blogspot.com/_oIAhQMTG-dU/SqTFkSI3mKI/AAAAAAAAB2g/Wy0ctlTGAl4/s640/amazing-moon-pictures-photos-04.jpg\n",
            "[%] File Downloaded !\n",
            "\n",
            "[%] Downloading Image #17 from http://www.exploretheozarksonline.com/activities/parksnature/nationalforests/ozark/bigpiney/images/pic_FallingWater05.jpg\n",
            "[%] File Downloaded !\n",
            "\n",
            "[%] Downloading Image #18 from https://www.americanforests.org/wp-content/uploads/2013/03/Monarch-butterfly.jpg\n",
            "[%] File Downloaded !\n",
            "\n",
            "[%] Downloading Image #19 from http://www.bucketlistpublications.com/wp-content/uploads/2016/02/Muir-Woods-San-Francisco-Bay-Area-California-534x800.jpg\n",
            "[%] File Downloaded !\n",
            "\n",
            "[%] Downloading Image #20 from http://www.elitecolumn.com/wp-content/uploads/2017/08/Best-Places-To-Visit-In-India-3.jpg\n",
            "[%] File Downloaded !\n",
            "\n",
            "[%] Downloading Image #21 from http://johnburk.zenfolio.com/img/s/v-3/p532820108-4.jpg\n",
            "[%] File Downloaded !\n",
            "\n",
            "[%] Downloading Image #22 from https://www.minnesotawildflowers.info/udata/r9ndp23q/pd/aplectrum-hyemale-7.jpg\n",
            "[%] File Downloaded !\n",
            "\n",
            "[%] Downloading Image #23 from http://uploads.neatorama.com/images/posts/332/71/71332/1398025301-0.jpg\n",
            "[%] File Downloaded !\n",
            "\n",
            "[%] Downloading Image #24 from https://www.newslinq.com/wp-content/uploads/2014/11/Le-Meridien-Bora-Bora-025-930x1395.jpg\n",
            "[%] File Downloaded !\n",
            "\n",
            "\n",
            "\n",
            "[!!]Indexing page: 3\n",
            "\n",
            "[%] Indexed 11 Images on Page 3.\n",
            "\n",
            "===============================================\n",
            "\n",
            "[%] Downloading Image #25 from http://www.exploretheozarksonline.com/activities/parksnature/nationalforests/ozark/bigpiney/images/pic_FallingWater05.jpg\n",
            "[%] File Downloaded !\n",
            "\n",
            "[%] Downloading Image #26 from https://www.newslinq.com/wp-content/uploads/2014/11/Le-Meridien-Bora-Bora-025-930x1395.jpg\n",
            "[%] File Downloaded !\n",
            "\n",
            "[%] Downloading Image #27 from https://www.americanforests.org/wp-content/uploads/2013/03/Monarch-butterfly.jpg\n",
            "[%] File Downloaded !\n",
            "\n",
            "[%] Downloading Image #28 from http://www.elitecolumn.com/wp-content/uploads/2017/08/Best-Places-To-Visit-In-India-3.jpg\n",
            "[%] File Downloaded !\n",
            "\n",
            "[%] Downloading Image #29 from http://johnburk.zenfolio.com/img/s/v-3/p532820108-4.jpg\n",
            "[%] File Downloaded !\n",
            "\n",
            "[%] Downloading Image #30 from https://www.wallpapers13.com/wp-content/uploads/2016/07/Beautiful-mountain-stream-waterfall-rocks-and-green-pine-forest-Yoho-National-Park-British-Columbia-Canada-Desktop-Wallpaper-HD-2560x1600-1920x1080.jpg\n",
            "[%] File Downloaded !\n",
            "\n",
            "\n",
            "\n",
            "[%] Done. Downloaded 30 images.\n",
            "\n",
            "===============================================\n",
            "\n"
          ],
          "name": "stdout"
        }
      ]
    },
    {
      "cell_type": "code",
      "metadata": {
        "colab": {
          "base_uri": "https://localhost:8080/"
        },
        "id": "0H70WUqQjGQD",
        "outputId": "7e2359fd-81f4-47d1-c96a-afcaaab2df0f"
      },
      "source": [
        "downloader.download(\"snowy mountains\",limit=30,output_dir='images',adult_filter_off=True)"
      ],
      "execution_count": 4,
      "outputs": [
        {
          "output_type": "stream",
          "text": [
            "\n",
            "\n",
            "[!!]Indexing page: 1\n",
            "\n",
            "[%] Indexed 22 Images on Page 1.\n",
            "\n",
            "===============================================\n",
            "\n",
            "[%] Downloading Image #1 from https://upload.wikimedia.org/wikipedia/commons/0/00/Snowy_mountain_(24818509620).jpg\n",
            "[%] File Downloaded !\n",
            "\n",
            "[%] Downloading Image #2 from https://thumbs.dreamstime.com/z/snowy-mountains-14067747.jpg\n",
            "[%] File Downloaded !\n",
            "\n",
            "[%] Downloading Image #3 from https://thumbs.dreamstime.com/z/snowy-mountains-16802806.jpg\n",
            "[%] File Downloaded !\n",
            "\n",
            "[%] Downloading Image #4 from https://www.visitnsw.com/sites/visitnsw/files/styles/open_graph/public/2018-01/143840-56.jpg?itok=xsSgqIgJ\n",
            "[%] File Downloaded !\n",
            "\n",
            "[%] Downloading Image #5 from http://4.bp.blogspot.com/-r1Q7EDkSE3Y/VGsc75e-mKI/AAAAAAAAEGA/1SWem2QEyLk/w1200-h630-p-k-no-nu/Pink%2BMountaintops%2B-%2Bsunset-snowy-mountains-wallpaper.jpg\n",
            "[%] File Downloaded !\n",
            "\n",
            "[%] Downloading Image #6 from https://www.publicdomainpictures.net/pictures/230000/velka/snowy-mountains-1503101857IGL.jpg\n",
            "[%] File Downloaded !\n",
            "\n",
            "[%] Downloading Image #7 from http://www.wallpapers13.com/wp-content/uploads/2018/11/Brienz-Village-in-Switzerland-Lake-houses-snowy-mountains-landscape-photography-HD-Wallpapers-for-Desktop-android-phones-and-tablet-5200x3250.jpg\n",
            "[%] File Downloaded !\n",
            "\n",
            "[%] Downloading Image #8 from https://thumbs.dreamstime.com/z/snowy-montains-13101815.jpg\n",
            "[%] File Downloaded !\n",
            "\n",
            "[%] Downloading Image #9 from http://t.wallpaperweb.org/wallpaper/nature/1440x1080/snowy_mountains17_1440x1080.jpg\n",
            "[%] File Downloaded !\n",
            "\n",
            "[%] Downloading Image #10 from https://upload.wikimedia.org/wikipedia/commons/thumb/0/00/Snowy_mountain_003.jpg/1200px-Snowy_mountain_003.jpg\n",
            "[%] File Downloaded !\n",
            "\n",
            "[%] Downloading Image #11 from https://wallpapershome.com/images/wallpapers/trees-3840x2160-5k-4k-wallpaper-pines-mountains-snow-winter-sunset-5701.jpg\n",
            "[%] File Downloaded !\n",
            "\n",
            "[%] Downloading Image #12 from https://thumbs.dreamstime.com/z/snowy-mountain-726539.jpg\n",
            "[%] File Downloaded !\n",
            "\n",
            "[%] Downloading Image #13 from https://images.pexels.com/photos/930870/pexels-photo-930870.jpeg?auto=compress&amp;cs=tinysrgb&amp;h=750&amp;w=1260\n",
            "[%] File Downloaded !\n",
            "\n",
            "[%] Downloading Image #14 from https://www.hoangdo.com.au/images/bath2.jpg\n",
            "[%] File Downloaded !\n",
            "\n",
            "[%] Downloading Image #15 from https://www.10wallpaper.com/wallpaper/3840x2160/1809/New_Zealand_South_Island_snowy_mountains_clouds_3840x2160.jpg\n",
            "[%] File Downloaded !\n",
            "\n",
            "[%] Downloading Image #16 from https://www.10wallpaper.com/wallpaper/2560x1440/1809/New_Zealand_South_Island_snowy_mountains_clouds_2560x1440.jpg\n",
            "[%] File Downloaded !\n",
            "\n",
            "[%] Downloading Image #17 from http://www.textures.com/system/gallery/photos/Landscapes/Arid/97496/LandscapeArid0152_600.jpg?v=5\n",
            "[%] File Downloaded !\n",
            "\n",
            "[%] Downloading Image #18 from https://i.pinimg.com/736x/30/20/a2/3020a291a543ebb74b8bc1893a491fb1.jpg\n",
            "[%] File Downloaded !\n",
            "\n",
            "[%] Downloading Image #19 from https://www.pixelstalk.net/wp-content/uploads/images1/Plant-Images-Free.jpg\n",
            "[%] File Downloaded !\n",
            "\n",
            "[%] Downloading Image #20 from http://hdlatestwallpaper.com/wp-content/themes/sahifa/download.php?fname=Photoshop-nature-landscape-HD-wallpaper-1366x768.jpg&amp;act=download&amp;edmc=15840&amp;path=http://hdlatestwallpaper.com/wp-content/uploads/2017/11/Photoshop-nature-landscape-HD-wallpaper-1366x768.jpg\n",
            "[Error]Invalid image, not saving http://hdlatestwallpaper.com/wp-content/themes/sahifa/download.php?fname=Photoshop-nature-landscape-HD-wallpaper-1366x768.jpg&amp;act=download&amp;edmc=15840&amp;path=http://hdlatestwallpaper.com/wp-content/uploads/2017/11/Photoshop-nature-landscape-HD-wallpaper-1366x768.jpg\n",
            "\n",
            "[!] Issue getting: http://hdlatestwallpaper.com/wp-content/themes/sahifa/download.php?fname=Photoshop-nature-landscape-HD-wallpaper-1366x768.jpg&amp;act=download&amp;edmc=15840&amp;path=http://hdlatestwallpaper.com/wp-content/uploads/2017/11/Photoshop-nature-landscape-HD-wallpaper-1366x768.jpg\n",
            "[!] Error:: No active exception to reraise\n",
            "[%] Downloading Image #20 from http://www.wallpapers13.com/wp-content/uploads/2019/02/Autumn-landscape-Old-Grist-Mill-Water-in-Babcock-State-Park-West-Virginia-Best-HD-Wallpapers-For-Desktop-Tablets-and-Mobile-Phones.jpg\n",
            "[%] File Downloaded !\n",
            "\n",
            "[%] Downloading Image #21 from http://hdlatestwallpaper.com/wp-content/themes/sahifa/download.php?fname=Animated-Blue-sky-HD-wallpaper-1280x1024.jpg&amp;act=download&amp;edmc=15136&amp;path=http://hdlatestwallpaper.com/wp-content/uploads/2017/10/Animated-Blue-sky-HD-wallpaper-1280x1024.jpg\n",
            "[Error]Invalid image, not saving http://hdlatestwallpaper.com/wp-content/themes/sahifa/download.php?fname=Animated-Blue-sky-HD-wallpaper-1280x1024.jpg&amp;act=download&amp;edmc=15136&amp;path=http://hdlatestwallpaper.com/wp-content/uploads/2017/10/Animated-Blue-sky-HD-wallpaper-1280x1024.jpg\n",
            "\n",
            "[!] Issue getting: http://hdlatestwallpaper.com/wp-content/themes/sahifa/download.php?fname=Animated-Blue-sky-HD-wallpaper-1280x1024.jpg&amp;act=download&amp;edmc=15136&amp;path=http://hdlatestwallpaper.com/wp-content/uploads/2017/10/Animated-Blue-sky-HD-wallpaper-1280x1024.jpg\n",
            "[!] Error:: No active exception to reraise\n",
            "\n",
            "\n",
            "[!!]Indexing page: 2\n",
            "\n",
            "[%] Indexed 22 Images on Page 2.\n",
            "\n",
            "===============================================\n",
            "\n",
            "[%] Downloading Image #21 from https://upload.wikimedia.org/wikipedia/commons/0/00/Snowy_mountain_(24818509620).jpg\n",
            "[%] File Downloaded !\n",
            "\n",
            "[%] Downloading Image #22 from https://thumbs.dreamstime.com/z/snowy-mountains-14067747.jpg\n",
            "[%] File Downloaded !\n",
            "\n",
            "[%] Downloading Image #23 from https://thumbs.dreamstime.com/z/snowy-mountains-16802806.jpg\n",
            "[%] File Downloaded !\n",
            "\n",
            "[%] Downloading Image #24 from https://www.visitnsw.com/sites/visitnsw/files/styles/open_graph/public/2018-01/143840-56.jpg?itok=xsSgqIgJ\n",
            "[%] File Downloaded !\n",
            "\n",
            "[%] Downloading Image #25 from http://4.bp.blogspot.com/-r1Q7EDkSE3Y/VGsc75e-mKI/AAAAAAAAEGA/1SWem2QEyLk/w1200-h630-p-k-no-nu/Pink%2BMountaintops%2B-%2Bsunset-snowy-mountains-wallpaper.jpg\n",
            "[%] File Downloaded !\n",
            "\n",
            "[%] Downloading Image #26 from https://www.publicdomainpictures.net/pictures/230000/velka/snowy-mountains-1503101857IGL.jpg\n",
            "[%] File Downloaded !\n",
            "\n",
            "[%] Downloading Image #27 from http://www.wallpapers13.com/wp-content/uploads/2018/11/Brienz-Village-in-Switzerland-Lake-houses-snowy-mountains-landscape-photography-HD-Wallpapers-for-Desktop-android-phones-and-tablet-5200x3250.jpg\n",
            "[%] File Downloaded !\n",
            "\n",
            "[%] Downloading Image #28 from https://thumbs.dreamstime.com/z/snowy-montains-13101815.jpg\n",
            "[%] File Downloaded !\n",
            "\n",
            "[%] Downloading Image #29 from http://t.wallpaperweb.org/wallpaper/nature/1440x1080/snowy_mountains17_1440x1080.jpg\n",
            "[%] File Downloaded !\n",
            "\n",
            "[%] Downloading Image #30 from https://upload.wikimedia.org/wikipedia/commons/thumb/0/00/Snowy_mountain_003.jpg/1200px-Snowy_mountain_003.jpg\n",
            "[%] File Downloaded !\n",
            "\n",
            "\n",
            "\n",
            "[%] Done. Downloaded 30 images.\n",
            "\n",
            "===============================================\n",
            "\n"
          ],
          "name": "stdout"
        }
      ]
    },
    {
      "cell_type": "code",
      "metadata": {
        "colab": {
          "base_uri": "https://localhost:8080/"
        },
        "id": "cy9VE9AvjadY",
        "outputId": "e502a513-f816-4dea-8e15-fc0da9ae1125"
      },
      "source": [
        "downloader.download(\"ocean\",limit=30,output_dir='images',adult_filter_off=True)"
      ],
      "execution_count": 5,
      "outputs": [
        {
          "output_type": "stream",
          "text": [
            "\n",
            "\n",
            "[!!]Indexing page: 1\n",
            "\n",
            "[%] Indexed 12 Images on Page 1.\n",
            "\n",
            "===============================================\n",
            "\n",
            "[%] Downloading Image #1 from https://wallpapershome.com/images/wallpapers/maldives-3840x2160-5k-4k-wallpaper-8k-indian-ocean-best-beaches-in-5312.jpg\n",
            "[%] File Downloaded !\n",
            "\n",
            "[%] Downloading Image #2 from http://travelvista.net/wp-content/uploads/2012/09/amazing-australia-10.jpg\n",
            "[%] File Downloaded !\n",
            "\n",
            "[%] Downloading Image #3 from https://wallpapershome.com/images/wallpapers/clouds-2160x3840-8k-4k-5k-wallpaper-abstract-purple-live-wallpaper-6469.jpg\n",
            "[%] File Downloaded !\n",
            "\n",
            "[%] Downloading Image #4 from https://weneedfun.com/wp-content/uploads/2016/08/Boat-Ocean-Wallpapers-3.jpg\n",
            "[%] File Downloaded !\n",
            "\n",
            "[%] Downloading Image #5 from https://claridge.com/wp-content/uploads/2019/02/Grand-Ballroom-Dinardo-2-1.jpg\n",
            "[%] File Downloaded !\n",
            "\n",
            "[%] Downloading Image #6 from http://www.kobb.ca/wp-content/uploads/2012/08/fisherman_13.jpg\n",
            "[%] File Downloaded !\n",
            "\n",
            "[%] Downloading Image #7 from https://wallpapershome.com/images/wallpapers/sea-1440x2560-5k-4k-wallpaper-8k-moon-clouds-sky-4394.jpg\n",
            "[%] File Downloaded !\n",
            "\n",
            "[%] Downloading Image #8 from https://www.artpeoplegallery.com/wp-content/uploads/2016/01/54-680x908.jpg\n",
            "[%] File Downloaded !\n",
            "\n",
            "[%] Downloading Image #9 from https://wallpapershome.com/images/wallpapers/bora-bora-1920x1080-5k-4k-wallpaper-french-polynesia-best-beaches-of-633.jpg\n",
            "[%] File Downloaded !\n",
            "\n",
            "[%] Downloading Image #10 from https://wallpapershome.com/images/wallpapers/uglydolls-1080x1920-4k-21814.jpg\n",
            "[%] File Downloaded !\n",
            "\n",
            "[%] Downloading Image #11 from https://wallpapershome.com/images/wallpapers/norway-1920x1080-5k-4k-wallpaper-bridge-sea-lake-water-blue-sky-920.jpg\n",
            "[%] File Downloaded !\n",
            "\n",
            "[%] Downloading Image #12 from http://www.digsdigs.com/photos/hualalai-luxury-home-design-master-bath.jpg\n",
            "[%] File Downloaded !\n",
            "\n",
            "\n",
            "\n",
            "[!!]Indexing page: 2\n",
            "\n",
            "[%] Indexed 12 Images on Page 2.\n",
            "\n",
            "===============================================\n",
            "\n",
            "[%] Downloading Image #13 from https://wallpapershome.com/images/wallpapers/maldives-3840x2160-5k-4k-wallpaper-8k-indian-ocean-best-beaches-in-5312.jpg\n",
            "[%] File Downloaded !\n",
            "\n",
            "[%] Downloading Image #14 from http://travelvista.net/wp-content/uploads/2012/09/amazing-australia-10.jpg\n",
            "[%] File Downloaded !\n",
            "\n",
            "[%] Downloading Image #15 from https://wallpapershome.com/images/wallpapers/clouds-2160x3840-8k-4k-5k-wallpaper-abstract-purple-live-wallpaper-6469.jpg\n",
            "[%] File Downloaded !\n",
            "\n",
            "[%] Downloading Image #16 from https://weneedfun.com/wp-content/uploads/2016/08/Boat-Ocean-Wallpapers-3.jpg\n",
            "[%] File Downloaded !\n",
            "\n",
            "[%] Downloading Image #17 from https://claridge.com/wp-content/uploads/2019/02/Grand-Ballroom-Dinardo-2-1.jpg\n",
            "[%] File Downloaded !\n",
            "\n",
            "[%] Downloading Image #18 from http://www.kobb.ca/wp-content/uploads/2012/08/fisherman_13.jpg\n",
            "[%] File Downloaded !\n",
            "\n",
            "[%] Downloading Image #19 from https://wallpapershome.com/images/wallpapers/sea-1440x2560-5k-4k-wallpaper-8k-moon-clouds-sky-4394.jpg\n",
            "[%] File Downloaded !\n",
            "\n",
            "[%] Downloading Image #20 from https://www.artpeoplegallery.com/wp-content/uploads/2016/01/54-680x908.jpg\n",
            "[%] File Downloaded !\n",
            "\n",
            "[%] Downloading Image #21 from https://wallpapershome.com/images/wallpapers/bora-bora-1920x1080-5k-4k-wallpaper-french-polynesia-best-beaches-of-633.jpg\n",
            "[%] File Downloaded !\n",
            "\n",
            "[%] Downloading Image #22 from https://wallpapershome.com/images/wallpapers/uglydolls-1080x1920-4k-21814.jpg\n",
            "[%] File Downloaded !\n",
            "\n",
            "[%] Downloading Image #23 from https://wallpapershome.com/images/wallpapers/norway-1920x1080-5k-4k-wallpaper-bridge-sea-lake-water-blue-sky-920.jpg\n",
            "[%] File Downloaded !\n",
            "\n",
            "[%] Downloading Image #24 from http://www.digsdigs.com/photos/hualalai-luxury-home-design-master-bath.jpg\n",
            "[%] File Downloaded !\n",
            "\n",
            "\n",
            "\n",
            "[!!]Indexing page: 3\n",
            "\n",
            "[%] Indexed 12 Images on Page 3.\n",
            "\n",
            "===============================================\n",
            "\n",
            "[%] Downloading Image #25 from https://wallpapershome.com/images/wallpapers/ocean-1080x1920-5k-4k-wallpaper-8k-sea-nature-underwater-water-sun-386.jpg\n",
            "[%] File Downloaded !\n",
            "\n",
            "[%] Downloading Image #26 from http://www.worldfortravel.com/wp-content/uploads/2013/04/Romania-Castle-750x378.jpg\n",
            "[%] File Downloaded !\n",
            "\n",
            "[%] Downloading Image #27 from https://www.architectureartdesigns.com/wp-content/uploads/2015/02/20-Relaxing-Tropical-Bathroom-Designs-To-Make-You-Feel-Like-Being-In-Paradise-6-630x875.jpg\n",
            "[%] File Downloaded !\n",
            "\n",
            "[%] Downloading Image #28 from https://bestanimations.com/Nature/Water/lake/lake-nature-animated-gif-24.gif\n",
            "[%] File Downloaded !\n",
            "\n",
            "[%] Downloading Image #29 from https://www.bing.com/th/id/OGC.199d3683f2b758b695545e095352f840?pid=1.7&amp;rurl=https%3a%2f%2fbestanimations.com%2fNature%2fWater%2flake%2flake-nature-animated-gif-24.gif&amp;ehk=hBuof%2bPzpmq7sFSbdeo%2fr1Fc%2f8i1QhCBkJZXa4x44h0%3d\n",
            "[!] Issue getting: https://www.bing.com/th/id/OGC.199d3683f2b758b695545e095352f840?pid=1.7&amp;rurl=https%3a%2f%2fbestanimations.com%2fNature%2fWater%2flake%2flake-nature-animated-gif-24.gif&amp;ehk=hBuof%2bPzpmq7sFSbdeo%2fr1Fc%2f8i1QhCBkJZXa4x44h0%3d\n",
            "[!] Error:: HTTP Error 404: Not Found\n",
            "[%] Downloading Image #29 from https://d.newsweek.com/en/full/416538/01-29-noahsark-01.jpg\n",
            "[%] File Downloaded !\n",
            "\n",
            "[%] Downloading Image #30 from http://images.skyscrapercenter.com/building/ch0030.jpg\n",
            "[%] File Downloaded !\n",
            "\n",
            "\n",
            "\n",
            "[%] Done. Downloaded 30 images.\n",
            "\n",
            "===============================================\n",
            "\n"
          ],
          "name": "stdout"
        }
      ]
    },
    {
      "cell_type": "markdown",
      "metadata": {
        "id": "no9bpKGTj1SG"
      },
      "source": [
        "PREPROCESSING:"
      ]
    },
    {
      "cell_type": "code",
      "metadata": {
        "id": "cp4ZW-omjp4O"
      },
      "source": [
        "import os\n",
        "import matplotlib.pyplot as plt\n",
        "import numpy as np\n",
        "from skimage.io import imread\n",
        "from skimage.transform import resize"
      ],
      "execution_count": 6,
      "outputs": []
    },
    {
      "cell_type": "code",
      "metadata": {
        "id": "gCz_x5tkkIAu"
      },
      "source": [
        "target=[]\n",
        "images=[]\n",
        "flattened_data=[]\n",
        "DATADIR = '/content/images'\n",
        "CATEGORIES = ['buildings','forests','snowy mountains','ocean']\n",
        "\n",
        "for category in CATEGORIES :\n",
        "  class_num = CATEGORIES.index(category)\n",
        "  path = os.path.join(DATADIR,category)\n",
        "  for img in os.listdir(path) :\n",
        "    img_array=imread(os.path.join(path,img))\n",
        "    img_resized = resize(img_array,(150,150,3))\n",
        "    flattened_data.append(img_resized.flatten())\n",
        "    images.append(img_resized)\n",
        "    target.append(class_num)\n",
        "\n",
        "flattened_data = np.array(flattened_data)\n",
        "target = np.array(target)\n",
        "images = np.array(images)"
      ],
      "execution_count": 7,
      "outputs": []
    },
    {
      "cell_type": "code",
      "metadata": {
        "colab": {
          "base_uri": "https://localhost:8080/"
        },
        "id": "WmwVxRRsnzDW",
        "outputId": "e02e7f1d-bc8b-4e3e-e96e-937fabb1f0fa"
      },
      "source": [
        "flattened_data[0]"
      ],
      "execution_count": 8,
      "outputs": [
        {
          "output_type": "execute_result",
          "data": {
            "text/plain": [
              "array([0.94117647, 0.95686275, 0.96862745, ..., 0.18431373, 0.18431373,\n",
              "       0.18670588])"
            ]
          },
          "metadata": {
            "tags": []
          },
          "execution_count": 8
        }
      ]
    },
    {
      "cell_type": "code",
      "metadata": {
        "id": "GP6lLPNnpjB3"
      },
      "source": [
        "from sklearn.model_selection import train_test_split\n",
        "x_train,x_test,y_train,y_test = train_test_split(flattened_data,target,test_size=0.3,random_state=109)"
      ],
      "execution_count": 9,
      "outputs": []
    },
    {
      "cell_type": "code",
      "metadata": {
        "colab": {
          "base_uri": "https://localhost:8080/"
        },
        "id": "pQ5H6twpqK7i",
        "outputId": "85fd7597-4979-42ff-e67a-dae318556f45"
      },
      "source": [
        "from sklearn.model_selection import GridSearchCV\n",
        "from sklearn import svm\n",
        "param = [{'C':[1,10,100,1000],'kernel':['linear']},\n",
        "         {'C':[1,10,100,1000],'gamma':[0.001,0.0001],'kernel':['rbf']},\n",
        "        ]\n",
        "svc = svm.SVC(probability = True)\n",
        "clf = GridSearchCV(svc,param)\n",
        "clf.fit(x_train,y_train)"
      ],
      "execution_count": 10,
      "outputs": [
        {
          "output_type": "execute_result",
          "data": {
            "text/plain": [
              "GridSearchCV(cv=None, error_score=nan,\n",
              "             estimator=SVC(C=1.0, break_ties=False, cache_size=200,\n",
              "                           class_weight=None, coef0=0.0,\n",
              "                           decision_function_shape='ovr', degree=3,\n",
              "                           gamma='scale', kernel='rbf', max_iter=-1,\n",
              "                           probability=True, random_state=None, shrinking=True,\n",
              "                           tol=0.001, verbose=False),\n",
              "             iid='deprecated', n_jobs=None,\n",
              "             param_grid=[{'C': [1, 10, 100, 1000], 'kernel': ['linear']},\n",
              "                         {'C': [1, 10, 100, 1000], 'gamma': [0.001, 0.0001],\n",
              "                          'kernel': ['rbf']}],\n",
              "             pre_dispatch='2*n_jobs', refit=True, return_train_score=False,\n",
              "             scoring=None, verbose=0)"
            ]
          },
          "metadata": {
            "tags": []
          },
          "execution_count": 10
        }
      ]
    },
    {
      "cell_type": "code",
      "metadata": {
        "colab": {
          "base_uri": "https://localhost:8080/"
        },
        "id": "vhhkh2OBrzn8",
        "outputId": "d3c455e5-21ae-48d9-9df8-150cd8a6ec7e"
      },
      "source": [
        "y_pred = clf.predict(x_test)\n",
        "y_pred"
      ],
      "execution_count": 11,
      "outputs": [
        {
          "output_type": "execute_result",
          "data": {
            "text/plain": [
              "array([0, 2, 3, 1, 3, 0, 0, 3, 2, 3, 1, 3, 0, 3, 3, 0, 1, 2, 0, 2, 1, 1,\n",
              "       3, 1, 1, 0, 3, 2, 2, 1, 2, 1, 1, 2, 3, 0])"
            ]
          },
          "metadata": {
            "tags": []
          },
          "execution_count": 11
        }
      ]
    },
    {
      "cell_type": "code",
      "metadata": {
        "colab": {
          "base_uri": "https://localhost:8080/"
        },
        "id": "xpxeKQB0tF_c",
        "outputId": "9739f515-8e6b-4fdb-d672-50df7f1b179e"
      },
      "source": [
        "y_test"
      ],
      "execution_count": 12,
      "outputs": [
        {
          "output_type": "execute_result",
          "data": {
            "text/plain": [
              "array([0, 2, 3, 1, 3, 0, 0, 3, 2, 3, 1, 3, 0, 2, 3, 0, 1, 2, 0, 2, 1, 1,\n",
              "       3, 1, 1, 0, 3, 2, 3, 1, 2, 1, 2, 2, 3, 0])"
            ]
          },
          "metadata": {
            "tags": []
          },
          "execution_count": 12
        }
      ]
    },
    {
      "cell_type": "code",
      "metadata": {
        "id": "avBpb0mutKJS"
      },
      "source": [
        "from sklearn.metrics import accuracy_score, confusion_matrix"
      ],
      "execution_count": 13,
      "outputs": []
    },
    {
      "cell_type": "code",
      "metadata": {
        "colab": {
          "base_uri": "https://localhost:8080/"
        },
        "id": "2Q2qyEtctWfn",
        "outputId": "b2d265de-d4bf-4f2d-80f1-b82204bfdef7"
      },
      "source": [
        "accuracy_score(y_pred,y_test)"
      ],
      "execution_count": 14,
      "outputs": [
        {
          "output_type": "execute_result",
          "data": {
            "text/plain": [
              "0.9166666666666666"
            ]
          },
          "metadata": {
            "tags": []
          },
          "execution_count": 14
        }
      ]
    },
    {
      "cell_type": "code",
      "metadata": {
        "colab": {
          "base_uri": "https://localhost:8080/"
        },
        "id": "JvbxXy6Qtc6Q",
        "outputId": "b634d2d3-8779-48d0-9613-692b6e81018b"
      },
      "source": [
        "confusion_matrix(y_pred, y_test)"
      ],
      "execution_count": 15,
      "outputs": [
        {
          "output_type": "execute_result",
          "data": {
            "text/plain": [
              "array([[8, 0, 0, 0],\n",
              "       [0, 9, 1, 0],\n",
              "       [0, 0, 7, 1],\n",
              "       [0, 0, 1, 9]])"
            ]
          },
          "metadata": {
            "tags": []
          },
          "execution_count": 15
        }
      ]
    },
    {
      "cell_type": "code",
      "metadata": {
        "id": "1MItdFedtlK7"
      },
      "source": [
        "import pickle\n",
        "pickle.dump(clf,open('img_model.p','wb'))\n",
        "model = pickle.load(open('img_model.p','rb'))"
      ],
      "execution_count": 16,
      "outputs": []
    },
    {
      "cell_type": "markdown",
      "metadata": {
        "id": "KpZVi3PQuJT9"
      },
      "source": [
        "TESTING WITH ANOTHER IMAGE:"
      ]
    },
    {
      "cell_type": "code",
      "metadata": {
        "colab": {
          "base_uri": "https://localhost:8080/",
          "height": 341
        },
        "id": "Em146iGuuHNm",
        "outputId": "772e2495-d57f-4b9d-f231-f008e5ac078e"
      },
      "source": [
        "flattened_data=[]\n",
        "url = input('Enter the URL: ')\n",
        "img = imread(url)\n",
        "img_resized = resize(img,(150,150,3))\n",
        "flattened_data.append(img_resized.flatten())\n",
        "flattened_data = np.array(flattened_data)\n",
        "print(img.shape)\n",
        "plt.imshow(img_resized)\n",
        "y_out = model.predict(flattened_data)\n",
        "y_out = CATEGORIES[y_out[0]]\n",
        "print(f'PREDICTED OUTPUT: {y_out}')"
      ],
      "execution_count": 17,
      "outputs": [
        {
          "output_type": "stream",
          "text": [
            "Enter the URL: https://images2.minutemediacdn.com/image/upload/c_crop,h_1351,w_2400,x_0,y_0/v1571796144/shape/mentalfloss/604599-gettyimages-1083893950.jpg?itok=om3ZU-xi\n",
            "(1351, 2400, 3)\n",
            "PREDICTED OUTPUT: forests\n"
          ],
          "name": "stdout"
        },
        {
          "output_type": "display_data",
          "data": {
            "image/png": "[encoded data removed]",
            "text/plain": [
              "<Figure size 432x288 with 1 Axes>"
            ]
          },
          "metadata": {
            "tags": [],
            "needs_background": "light"
          }
        }
      ]
    },
    {
      "cell_type": "code",
      "metadata": {
        "id": "8BmiuW1Vv1S_"
      },
      "source": [
        ""
      ],
      "execution_count": null,
      "outputs": []
    }
  ]
}